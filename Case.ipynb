{
 "cells": [
  {
   "cell_type": "code",
   "execution_count": null,
   "metadata": {},
   "outputs": [],
   "source": [
    "import requests\n",
    "import pandas as pd\n",
    "import time\n",
    "from datetime import date\n",
    "\n",
    "# Links de API   \n",
    "urls = ['https://infinit-mock-bi-735qakww5q-rj.a.run.app/vendas', \n",
    "        'https://infinit-mock-bi-735qakww5q-rj.a.run.app/contas', \n",
    "        'https://infinit-mock-bi-735qakww5q-rj.a.run.app/conciliacao']\n",
    "\n",
    "count = 0\n",
    "while(True):\n",
    "        for url, file_name in zip(urls, ['vendas.csv', 'contas.csv', 'conciliacao.csv']):\n",
    "                _url = url + \"?pagina=\" + str(count)\n",
    "                response = requests.get(_url)                \n",
    "                print(response.json())\n",
    "                data = response.json()[\"data\"]\n",
    "                df = pd.DataFrame.from_dict(data)\n",
    "                df.to_csv(file_name, index=False)\n",
    "                \n",
    "        time.sleep(300)\n",
    "        count+=1"
   ]
  },
  {
   "cell_type": "code",
   "execution_count": null,
   "metadata": {},
   "outputs": [],
   "source": [
    "#Carregando dados de vendas, conciliação e contas a receber\n",
    "vendas_df = pd.read_csv('vendas.csv')\n",
    "conciliacao_df = pd.read_csv('conciliacao.csv')\n",
    "contas_receber_df = pd.read_csv('contas.csv',sep=',')\n",
    "\n",
    "vendas_conciliacao_df = pd.merge(vendas_df, conciliacao_df,on='NUMERO DO PEDIDO')\n",
    "#Filtrando vendas com status 3 (Aceita)\n",
    "vendas_aceitas_df = vendas_conciliacao_df[vendas_conciliacao_df['STATUS ENVIO NF']==3]\n",
    "receber = vendas_aceitas_df[['_id_x','DATA DE PAGAMENTO','NUMERO DO PEDIDO','VALOR']]\n",
    "receber.rename(columns={'_id_x': '_id'},inplace=True)\n",
    "receber.to_csv('receber.csv', index=False) "
   ]
  }
 ],
 "metadata": {
  "kernelspec": {
   "display_name": "base",
   "language": "python",
   "name": "python3"
  },
  "language_info": {
   "codemirror_mode": {
    "name": "ipython",
    "version": 3
   },
   "file_extension": ".py",
   "mimetype": "text/x-python",
   "name": "python",
   "nbconvert_exporter": "python",
   "pygments_lexer": "ipython3",
   "version": "3.9.12 (main, Apr  4 2022, 05:22:27) [MSC v.1916 64 bit (AMD64)]"
  },
  "orig_nbformat": 4,
  "vscode": {
   "interpreter": {
    "hash": "5f1b78eb436411a9c3c2406ff65dd6a2a483e2b78ec2ae8c1343ef3e593983b6"
   }
  }
 },
 "nbformat": 4,
 "nbformat_minor": 2
}
