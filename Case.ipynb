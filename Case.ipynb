{
 "cells": [
  {
   "cell_type": "code",
   "execution_count": 1,
   "metadata": {},
   "outputs": [
    {
     "name": "stdout",
     "output_type": "stream",
     "text": [
      "Vai fazer req: https://infinit-mock-bi-735qakww5q-rj.a.run.app/vendas?pagina=0\n",
      "{'message': 'Success.', 'data': [{'_id': '63c80c3dcd00e6a0865586f5', 'NUMERO DO PEDIDO': 1, 'VALOR': 247, 'DATA DE PAGAMENTO': '4/1/2023'}, {'_id': '63c80c3dcd00e6a0865586f6', 'NUMERO DO PEDIDO': 3, 'VALOR': 150, 'DATA DE PAGAMENTO': '4/1/2023'}, {'_id': '63c80c3dcd00e6a0865586f7', 'NUMERO DO PEDIDO': 4, 'VALOR': 281, 'DATA DE PAGAMENTO': '2/1/2023'}, {'_id': '63c80c3dcd00e6a0865586f8', 'NUMERO DO PEDIDO': 2, 'VALOR': 126, 'DATA DE PAGAMENTO': '2/1/2023'}, {'_id': '63c80c3dcd00e6a0865586f9', 'NUMERO DO PEDIDO': 6, 'VALOR': 198, 'DATA DE PAGAMENTO': '2/1/2023'}, {'_id': '63c80c3dcd00e6a0865586fa', 'NUMERO DO PEDIDO': 7, 'VALOR': 162, 'DATA DE PAGAMENTO': '2/1/2023'}, {'_id': '63c80c3dcd00e6a0865586fb', 'NUMERO DO PEDIDO': 8, 'VALOR': 207, 'DATA DE PAGAMENTO': '2/1/2023'}], 'page': '0'}\n"
     ]
    },
    {
     "name": "stderr",
     "output_type": "stream",
     "text": [
      "C:\\Users\\artur\\AppData\\Local\\Temp\\ipykernel_25104\\468781570.py:30: SettingWithCopyWarning: \n",
      "A value is trying to be set on a copy of a slice from a DataFrame\n",
      "\n",
      "See the caveats in the documentation: https://pandas.pydata.org/pandas-docs/stable/user_guide/indexing.html#returning-a-view-versus-a-copy\n",
      "  receber.rename(columns={'_id_x': '_id'},inplace=True)\n"
     ]
    },
    {
     "name": "stdout",
     "output_type": "stream",
     "text": [
      "Vai fazer req: https://infinit-mock-bi-735qakww5q-rj.a.run.app/contas?pagina=0\n",
      "{'message': 'Success.', 'data': [{'_id': '63c80c042e9f1b0dba087af0', 'DATA DE PAGAMENTO': '2/1/2023', 'RAZAO': 'Facebook', 'VALOR': ' R$ 1.200,00 '}, {'_id': '63c80c042e9f1b0dba087af1', 'DATA DE PAGAMENTO': '4/1/2023', 'RAZAO': 'Aliexpress', 'VALOR': ' R$ 1.500,00 '}, {'_id': '63c80c042e9f1b0dba087af2', 'DATA DE PAGAMENTO': '7/1/2023', 'RAZAO': 'Facebook', 'VALOR': ' R$ 1.200,00 '}, {'_id': '63c80c042e9f1b0dba087af3', 'DATA DE PAGAMENTO': '8/1/2023', 'RAZAO': 'MetaBase', 'VALOR': ' R$ 1.500,00 '}, {'_id': '63c80c042e9f1b0dba087af4', 'DATA DE PAGAMENTO': '9/1/2023', 'RAZAO': 'Aliexpress', 'VALOR': ' R$ 1.500,00 '}, {'_id': '63c80c042e9f1b0dba087af5', 'DATA DE PAGAMENTO': '13/1/2023', 'RAZAO': 'Youtube', 'VALOR': ' R$ 1.200,00 '}, {'_id': '63c80c042e9f1b0dba087af6', 'DATA DE PAGAMENTO': '14/1/2023', 'RAZAO': 'Facebook', 'VALOR': ' R$ 1.500,00 '}], 'page': '0'}\n",
      "Vai fazer req: https://infinit-mock-bi-735qakww5q-rj.a.run.app/conciliacao?pagina=0\n"
     ]
    },
    {
     "name": "stderr",
     "output_type": "stream",
     "text": [
      "C:\\Users\\artur\\AppData\\Local\\Temp\\ipykernel_25104\\468781570.py:30: SettingWithCopyWarning: \n",
      "A value is trying to be set on a copy of a slice from a DataFrame\n",
      "\n",
      "See the caveats in the documentation: https://pandas.pydata.org/pandas-docs/stable/user_guide/indexing.html#returning-a-view-versus-a-copy\n",
      "  receber.rename(columns={'_id_x': '_id'},inplace=True)\n"
     ]
    },
    {
     "name": "stdout",
     "output_type": "stream",
     "text": [
      "{'message': 'Success.', 'data': [{'_id': '63c80c519bc44876e885e989', 'NUMERO DO PEDIDO': 1, 'CHAVE NF': 1234, 'STATUS ENVIO NF': 1}, {'_id': '63c80c519bc44876e885e98a', 'NUMERO DO PEDIDO': 2, 'CHAVE NF': 1234, 'STATUS ENVIO NF': 1}, {'_id': '63c80c519bc44876e885e98b', 'NUMERO DO PEDIDO': 3, 'CHAVE NF': 1234, 'STATUS ENVIO NF': 1}, {'_id': '63c80c519bc44876e885e98c', 'NUMERO DO PEDIDO': 4, 'CHAVE NF': 1234, 'STATUS ENVIO NF': 1}, {'_id': '63c80c519bc44876e885e98d', 'NUMERO DO PEDIDO': 5, 'CHAVE NF': 1234, 'STATUS ENVIO NF': 1}, {'_id': '63c80c519bc44876e885e98e', 'NUMERO DO PEDIDO': 7, 'CHAVE NF': 1234, 'STATUS ENVIO NF': 1}, {'_id': '63c80c519bc44876e885e98f', 'NUMERO DO PEDIDO': 8, 'CHAVE NF': 1234, 'STATUS ENVIO NF': 1}], 'page': '0'}\n"
     ]
    },
    {
     "name": "stderr",
     "output_type": "stream",
     "text": [
      "C:\\Users\\artur\\AppData\\Local\\Temp\\ipykernel_25104\\468781570.py:30: SettingWithCopyWarning: \n",
      "A value is trying to be set on a copy of a slice from a DataFrame\n",
      "\n",
      "See the caveats in the documentation: https://pandas.pydata.org/pandas-docs/stable/user_guide/indexing.html#returning-a-view-versus-a-copy\n",
      "  receber.rename(columns={'_id_x': '_id'},inplace=True)\n"
     ]
    },
    {
     "name": "stdout",
     "output_type": "stream",
     "text": [
      "Vai fazer req: https://infinit-mock-bi-735qakww5q-rj.a.run.app/vendas?pagina=1\n",
      "{'message': 'Success.', 'data': [{'_id': '63c80c3dcd00e6a0865586fc', 'NUMERO DO PEDIDO': 9, 'VALOR': 237, 'DATA DE PAGAMENTO': '2/1/2023'}, {'_id': '63c80c3dcd00e6a0865586fd', 'NUMERO DO PEDIDO': 10, 'VALOR': 275, 'DATA DE PAGAMENTO': '3/1/2023'}, {'_id': '63c80c3dcd00e6a0865586fe', 'NUMERO DO PEDIDO': 11, 'VALOR': 203, 'DATA DE PAGAMENTO': '3/1/2023'}, {'_id': '63c80c3dcd00e6a0865586ff', 'NUMERO DO PEDIDO': 12, 'VALOR': 184, 'DATA DE PAGAMENTO': '2/1/2023'}, {'_id': '63c80c3dcd00e6a086558700', 'NUMERO DO PEDIDO': 13, 'VALOR': 177, 'DATA DE PAGAMENTO': '4/1/2023'}, {'_id': '63c80c3dcd00e6a086558701', 'NUMERO DO PEDIDO': 14, 'VALOR': 123, 'DATA DE PAGAMENTO': '3/1/2023'}, {'_id': '63c80c3dcd00e6a086558702', 'NUMERO DO PEDIDO': 15, 'VALOR': 291, 'DATA DE PAGAMENTO': '4/1/2023'}], 'page': '1'}\n",
      "Vai fazer req: https://infinit-mock-bi-735qakww5q-rj.a.run.app/contas?pagina=1\n"
     ]
    },
    {
     "name": "stderr",
     "output_type": "stream",
     "text": [
      "C:\\Users\\artur\\AppData\\Local\\Temp\\ipykernel_25104\\468781570.py:30: SettingWithCopyWarning: \n",
      "A value is trying to be set on a copy of a slice from a DataFrame\n",
      "\n",
      "See the caveats in the documentation: https://pandas.pydata.org/pandas-docs/stable/user_guide/indexing.html#returning-a-view-versus-a-copy\n",
      "  receber.rename(columns={'_id_x': '_id'},inplace=True)\n"
     ]
    },
    {
     "name": "stdout",
     "output_type": "stream",
     "text": [
      "{'message': 'Success.', 'data': [{'_id': '63c80c042e9f1b0dba087af7', 'DATA DE PAGAMENTO': '15/1/2023', 'RAZAO': 'Facebook', 'VALOR': ' R$ 1.200,00 '}, {'_id': '63c80c042e9f1b0dba087af8', 'DATA DE PAGAMENTO': '20/1/2023', 'RAZAO': 'Aliexpress', 'VALOR': ' R$ 1.500,00 '}, {'_id': '63c80c042e9f1b0dba087af9', 'DATA DE PAGAMENTO': '21/1/2023', 'RAZAO': 'Facebook', 'VALOR': ' R$ 1.200,00 '}, {'_id': '63c80c042e9f1b0dba087afa', 'DATA DE PAGAMENTO': '2/2/2023', 'RAZAO': 'Facebook', 'VALOR': ' R$ 1.500,00 '}, {'_id': '63c80c042e9f1b0dba087afb', 'DATA DE PAGAMENTO': '2/2/2023', 'RAZAO': \"Joana D'arc\", 'VALOR': ' R$ 1.200,00 '}, {'_id': '63c80c042e9f1b0dba087afc', 'DATA DE PAGAMENTO': '2/2/2023', 'RAZAO': 'Facebook', 'VALOR': ' R$ 1.500,00 '}, {'_id': '63c80c042e9f1b0dba087afd', 'DATA DE PAGAMENTO': '8/1/2023', 'RAZAO': 'Facebook', 'VALOR': ' R$ 1.200,00 '}], 'page': '1'}\n",
      "Vai fazer req: https://infinit-mock-bi-735qakww5q-rj.a.run.app/conciliacao?pagina=1\n"
     ]
    },
    {
     "name": "stderr",
     "output_type": "stream",
     "text": [
      "C:\\Users\\artur\\AppData\\Local\\Temp\\ipykernel_25104\\468781570.py:30: SettingWithCopyWarning: \n",
      "A value is trying to be set on a copy of a slice from a DataFrame\n",
      "\n",
      "See the caveats in the documentation: https://pandas.pydata.org/pandas-docs/stable/user_guide/indexing.html#returning-a-view-versus-a-copy\n",
      "  receber.rename(columns={'_id_x': '_id'},inplace=True)\n"
     ]
    },
    {
     "name": "stdout",
     "output_type": "stream",
     "text": [
      "{'message': 'Success.', 'data': [{'_id': '63c80c519bc44876e885e990', 'NUMERO DO PEDIDO': 9, 'CHAVE NF': 1234, 'STATUS ENVIO NF': 1}, {'_id': '63c80c519bc44876e885e991', 'NUMERO DO PEDIDO': 10, 'CHAVE NF': 1234, 'STATUS ENVIO NF': 1}, {'_id': '63c80c519bc44876e885e992', 'NUMERO DO PEDIDO': 11, 'CHAVE NF': 1234, 'STATUS ENVIO NF': 1}, {'_id': '63c80c519bc44876e885e993', 'NUMERO DO PEDIDO': 12, 'CHAVE NF': 1234, 'STATUS ENVIO NF': 1}, {'_id': '63c80c519bc44876e885e994', 'NUMERO DO PEDIDO': 13, 'CHAVE NF': 1234, 'STATUS ENVIO NF': 1}, {'_id': '63c80c519bc44876e885e995', 'NUMERO DO PEDIDO': 14, 'CHAVE NF': 1234, 'STATUS ENVIO NF': 1}, {'_id': '63c80c519bc44876e885e996', 'NUMERO DO PEDIDO': 15, 'CHAVE NF': 1234, 'STATUS ENVIO NF': 1}], 'page': '1'}\n"
     ]
    },
    {
     "name": "stderr",
     "output_type": "stream",
     "text": [
      "C:\\Users\\artur\\AppData\\Local\\Temp\\ipykernel_25104\\468781570.py:30: SettingWithCopyWarning: \n",
      "A value is trying to be set on a copy of a slice from a DataFrame\n",
      "\n",
      "See the caveats in the documentation: https://pandas.pydata.org/pandas-docs/stable/user_guide/indexing.html#returning-a-view-versus-a-copy\n",
      "  receber.rename(columns={'_id_x': '_id'},inplace=True)\n"
     ]
    }
   ],
   "source": [
    "import requests\n",
    "import pandas as pd\n",
    "import time\n",
    "from datetime import date\n",
    "\n",
    "# Links de API  \n",
    "urls = ['https://infinit-mock-bi-735qakww5q-rj.a.run.app/vendas', \n",
    "        'https://infinit-mock-bi-735qakww5q-rj.a.run.app/contas', \n",
    "        'https://infinit-mock-bi-735qakww5q-rj.a.run.app/conciliacao']\n",
    "\n",
    "count = 0\n",
    "while(True):\n",
    "        for url, file_name in zip(urls, ['vendas.csv', 'contas.csv', 'conciliacao.csv']):\n",
    "                _url = url + \"?pagina=\" + str(count)\n",
    "                response = requests.get(_url)                \n",
    "                print(response.json())\n",
    "                data = response.json()[\"data\"]\n",
    "                df = pd.DataFrame.from_dict(data)\n",
    "                df.to_csv(file_name, index=False)\n",
    "                \n",
    "                #Carregando dados de vendas, conciliação e contas a receber\n",
    "                vendas_df = pd.read_csv('vendas.csv')\n",
    "                conciliacao_df = pd.read_csv('conciliacao.csv')\n",
    "                contas_receber_df = pd.read_csv('contas.csv',sep=',')\n",
    "\n",
    "                vendas_conciliacao_df = pd.merge(vendas_df, conciliacao_df,on='NUMERO DO PEDIDO')\n",
    "                #Filtrando vendas com status 3 (Aceita)\n",
    "                vendas_aceitas_df = vendas_conciliacao_df[vendas_conciliacao_df['STATUS ENVIO NF']==3]\n",
    "                receber = vendas_aceitas_df[['_id_x','DATA DE PAGAMENTO','NUMERO DO PEDIDO','VALOR']]\n",
    "                receber.rename(columns={'_id_x': '_id'},inplace=True)\n",
    "                receber.to_csv('receber.csv', index=False) \n",
    "\n",
    "        time.sleep(300)\n",
    "        count+=1"
   ]
  },
  {
   "cell_type": "code",
   "execution_count": 11,
   "metadata": {},
   "outputs": [
    {
     "name": "stderr",
     "output_type": "stream",
     "text": [
      "C:\\Users\\artur\\AppData\\Local\\Temp\\ipykernel_7204\\940222516.py:10: SettingWithCopyWarning: \n",
      "A value is trying to be set on a copy of a slice from a DataFrame\n",
      "\n",
      "See the caveats in the documentation: https://pandas.pydata.org/pandas-docs/stable/user_guide/indexing.html#returning-a-view-versus-a-copy\n",
      "  receber.rename(columns={'_id_x': '_id'},inplace=True)\n"
     ]
    }
   ],
   "source": [
    "                #Carregando dados de vendas, conciliação e contas a receber\n",
    "                vendas_df = pd.read_csv('vendas.csv')\n",
    "                conciliacao_df = pd.read_csv('conciliacao.csv')\n",
    "                contas_receber_df = pd.read_csv('contas.csv',sep=',')\n",
    "\n",
    "                vendas_conciliacao_df = pd.merge(vendas_df, conciliacao_df,on='NUMERO DO PEDIDO')\n",
    "                #Filtrando vendas com status 3 (Aceita)\n",
    "                vendas_aceitas_df = vendas_conciliacao_df[vendas_conciliacao_df['STATUS ENVIO NF']==3]\n",
    "                receber = vendas_aceitas_df[['_id_x','DATA DE PAGAMENTO','NUMERO DO PEDIDO','VALOR']]\n",
    "                receber.rename(columns={'_id_x': '_id'},inplace=True)\n",
    "                receber.to_csv('receber.csv', index=False) "
   ]
  }
 ],
 "metadata": {
  "kernelspec": {
   "display_name": "base",
   "language": "python",
   "name": "python3"
  },
  "language_info": {
   "codemirror_mode": {
    "name": "ipython",
    "version": 3
   },
   "file_extension": ".py",
   "mimetype": "text/x-python",
   "name": "python",
   "nbconvert_exporter": "python",
   "pygments_lexer": "ipython3",
   "version": "3.9.12"
  },
  "orig_nbformat": 4,
  "vscode": {
   "interpreter": {
    "hash": "5f1b78eb436411a9c3c2406ff65dd6a2a483e2b78ec2ae8c1343ef3e593983b6"
   }
  }
 },
 "nbformat": 4,
 "nbformat_minor": 2
}
